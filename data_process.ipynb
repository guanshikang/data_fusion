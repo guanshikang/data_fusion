{
 "cells": [
  {
   "cell_type": "code",
   "execution_count": 1,
   "id": "de823f13",
   "metadata": {},
   "outputs": [],
   "source": [
    "import re\n",
    "import numpy as np\n",
    "import pandas as pd"
   ]
  },
  {
   "cell_type": "code",
   "execution_count": 4,
   "id": "69074806",
   "metadata": {},
   "outputs": [],
   "source": [
    "### 1. 删除不符合要求的数据点\n",
    "category = \"val\"\n",
    "df = pd.read_csv(\"/fossfs/skguan/data_fusion/dataset_23_rpt(s)_train.csv\")\n",
    "df = pd.DataFrame(df[f'{category}'].dropna(), columns=[f'{category}'])\n",
    "pattern = \"(?P<site>s\\\\d+) (?P<year>\\\\d+)-(?P<month>\\\\d+)-(?P<day>\\\\d+)\"\n",
    "with open(\"logs/training_20250623_vit(Season)_2158554.out\", 'r') as f:\n",
    "    lines = f.readlines()\n",
    "    for line in lines:\n",
    "        if \"00:00:00\" in line:\n",
    "            sites = np.array(list(map(lambda x: x.split(\"/\")[-2], df[f'{category}'])))\n",
    "            dates = np.array(list(map(lambda x: re.match(\".*_\\\\d{6}_(\\\\d{8})*\", x.split(\"/\")[-1]).group(1),\n",
    "                                      df[f'{category}'])))\n",
    "            regex = re.match(pattern, line)\n",
    "            site = regex.group(\"site\")\n",
    "            date = regex.group(\"year\") + regex.group(\"month\") + regex.group(\"day\")\n",
    "            idx = np.argwhere((sites == site) & (dates == date))\n",
    "            if len(idx) == 0:\n",
    "                continue\n",
    "            index = int(idx.squeeze())\n",
    "            index_names = df[df[f'{category}'] == df[f'{category}'].iloc[index]].index\n",
    "            df.drop(index_names, inplace=True)\n",
    "df.to_csv(\"/fossfs/skguan/data_fusion/dataset_23_rpt(s)_val.csv\")"
   ]
  }
 ],
 "metadata": {
  "kernelspec": {
   "display_name": "guanshikang",
   "language": "python",
   "name": "python3"
  },
  "language_info": {
   "codemirror_mode": {
    "name": "ipython",
    "version": 3
   },
   "file_extension": ".py",
   "mimetype": "text/x-python",
   "name": "python",
   "nbconvert_exporter": "python",
   "pygments_lexer": "ipython3",
   "version": "3.12.1"
  }
 },
 "nbformat": 4,
 "nbformat_minor": 5
}
