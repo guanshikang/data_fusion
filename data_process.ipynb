{
 "cells": [
  {
   "cell_type": "code",
   "execution_count": 1,
   "id": "de823f13",
   "metadata": {},
   "outputs": [],
   "source": [
    "import os\n",
    "import re\n",
    "import numpy as np\n",
    "import pandas as pd"
   ]
  },
  {
   "cell_type": "code",
   "execution_count": null,
   "id": "69074806",
   "metadata": {},
   "outputs": [],
   "source": [
    "### 1. 删除不符合要求的数据点\n",
    "categories = [\"train\", \"val\", \"test\"]\n",
    "for category in categories:\n",
    "    file_path = \"/lustre1/g/geog_geors/skguan/dataset_23(season)_num12.csv\"\n",
    "    df = pd.read_csv(file_path)\n",
    "    df = pd.DataFrame(df[f'{category}'].dropna(), columns=[f'{category}'])\n",
    "    pattern = \"(?P<site>.+) (?P<year>\\\\d+)-(?P<month>\\\\d+)-(?P<day>\\\\d+)\"\n",
    "    with open(\"logs/training_20250625_vit(Season_2Sat)_2164022.out\", 'r') as f:\n",
    "        lines = f.readlines()\n",
    "        for line in lines:\n",
    "            if \"00:00:00\" in line:\n",
    "                sites = np.array(list(map(lambda x: x.split(\"/\")[-2], df[f'{category}'])))\n",
    "                dates = np.array(list(map(lambda x: re.match(\".*_\\\\d{6}_(\\\\d{8})*\", x.split(\"/\")[-1]).group(1),\n",
    "                                        df[f'{category}'])))\n",
    "                regex = re.match(pattern, line)\n",
    "                site = regex.group(\"site\")\n",
    "                date = regex.group(\"year\") + regex.group(\"month\") + regex.group(\"day\")\n",
    "                idx = np.argwhere((sites == site) & (dates == date))\n",
    "                if len(idx) == 0:\n",
    "                    continue\n",
    "                index = int(idx.squeeze())\n",
    "                index_names = df[df[f'{category}'] == df[f'{category}'].iloc[index]].index\n",
    "                df.drop(index_names, inplace=True)\n",
    "    df.to_csv(os.path.splitext(file_name)[0] + f\"_{category}.csv\")"
   ]
  },
  {
   "cell_type": "code",
   "execution_count": 2,
   "id": "31c68b6f",
   "metadata": {},
   "outputs": [],
   "source": [
    "### 2. 删除重复的数据点\n",
    "file_path = \"/lustre1/g/geog_geors/skguan/dataset_23(season)_num6.csv\"\n",
    "df = pd.read_csv(file_path)\n",
    "df_stack = df[df.columns[1:]].stack().reset_index(drop=True)\n",
    "df_sorted = df_stack.sort_values(key=lambda x: x.map(\n",
    "    lambda y: re.match(\".+_(\\\\d{6})_.+\", os.path.basename(y)).group(1)\n",
    "))\n",
    "file_num = len(df_sorted)\n",
    "tiles = set(map(\n",
    "    lambda x: re.match(\"\\\\w+_(\\\\d{6})_\", os.path.split(x)[-1]).group(1),\n",
    "    df_sorted.values\n",
    "))\n",
    "dataset = {\n",
    "    \"train\": [],\n",
    "    \"val\": [],\n",
    "    \"test\": []\n",
    "}\n",
    "train_num = int(file_num * .8)\n",
    "val_num = train_num + int(file_num * .1)\n",
    "num = 0\n",
    "for tile in tiles:\n",
    "    temp_files = filter(\n",
    "        lambda x: re.match(f\"LC09.*_{tile}_2023.*.tif\", os.path.basename(x)),\n",
    "        df_sorted.values\n",
    "    )\n",
    "    temp_files = list(temp_files)\n",
    "    num += len(temp_files)\n",
    "    train_ratio = (num - train_num) / file_num\n",
    "    val_ratio = (num - val_num) / file_num\n",
    "    if train_ratio < 0:\n",
    "        dataset[\"train\"].extend(temp_files)\n",
    "    elif val_ratio < 0:\n",
    "        dataset[\"val\"].extend(temp_files)\n",
    "    else:\n",
    "        dataset[\"test\"].extend(temp_files)\n",
    "df = pd.DataFrame(\n",
    "    dict([(k, pd.Series(v)) for k, v in dataset.items()])\n",
    ")\n",
    "df.to_csv(file_path)"
   ]
  },
  {
   "cell_type": "code",
   "execution_count": null,
   "id": "fb3bc211",
   "metadata": {},
   "outputs": [],
   "source": []
  }
 ],
 "metadata": {
  "kernelspec": {
   "display_name": "guanshikang",
   "language": "python",
   "name": "python3"
  },
  "language_info": {
   "codemirror_mode": {
    "name": "ipython",
    "version": 3
   },
   "file_extension": ".py",
   "mimetype": "text/x-python",
   "name": "python",
   "nbconvert_exporter": "python",
   "pygments_lexer": "ipython3",
   "version": "3.12.1"
  }
 },
 "nbformat": 4,
 "nbformat_minor": 5
}
